{
 "cells": [
  {
   "cell_type": "markdown",
   "metadata": {},
   "source": [
    "# Практика 3"
   ]
  },
  {
   "cell_type": "markdown",
   "metadata": {},
   "source": [
    "## Задача 1\n",
    "\n",
    "Выполнить расчет тепловой схемы простой ГТУ при заданных или принятых по оценке следующих величинах:\n",
    "\n",
    "* Элктрическая мощность 100 МВт\n",
    "* Температура газов перед турбиной 1200 градусов Цельсия\n",
    "* Температура воздуха на входе в компрессор 15 градусов Цельсия\n",
    "* Отношение давлений компрессора 16\n",
    "* Коэффициент потерь давления $\\delta / \\epsilon $ = 0.95\n",
    "* КПЛ камеры сгорания 0.995\n",
    "* Механический КПД турбины 0.995\n",
    "* КПД генератора 0.982\n",
    "* Изотропный КПД турбины 0.88\n",
    "* Изотропный КПД компрессора 0.86\n",
    "* Коэффициент утечек 0.005\n",
    "* Удельная теплота сгорания 1 кг топлива 50 000 кДж/кг\n",
    "* Минимально необходимое количество воздуха для полного сжигания 1 кг газа $L_0$ = 17.32 кг/кг\n",
    "\n",
    "* Теплоемкость воздуха Cp = 1010 Дж/(кг K)\n",
    "* Tеплоемкость продуктов сгорания Cp = 1320 Дж/(кг K)\n",
    "* Молекулярная масса воздуха 28.86 кг/моль\n",
    "* Молекулярная масса чистых продуктов сгорания 27.65 кг/моль\n",
    "* Газовая постоянная воздуха 288.1 Дж/(кг К)\n",
    "* Газовая чистых продуктов сгорания 300.7 Дж/(кг К)"
   ]
  },
  {
   "cell_type": "code",
   "execution_count": 27,
   "metadata": {},
   "outputs": [],
   "source": [
    "MW = 1e6\n",
    "to_kelvin = lambda x: x + 273.15\n",
    "kJ = 1e3"
   ]
  },
  {
   "cell_type": "code",
   "execution_count": 2,
   "metadata": {},
   "outputs": [],
   "source": [
    "N = 100 * MW\n",
    "Ta = to_kelvin(15)\n",
    "Tc = to_kelvin(1200)\n",
    "compression_factor = 16\n",
    "turbine_expansion_ratio = compression_factor * 0.95\n",
    "combustion_chamber_efficiency = 0.995\n",
    "mechanical_efficiency = 0.995\n",
    "electrical_efficiency = 0.982\n",
    "turbine_efficiency = 0.88\n",
    "compressor_efficiency = 0.86\n",
    "leakage_coeff = 0.005\n",
    "fuel_heat = 50000 * kJ\n",
    "L = 17.32\n",
    "\n",
    "cp_air = 1010\n",
    "cp_ccp = 1320\n",
    "R_air = 288.1\n",
    "R_ccp = 300.7\n",
    "mu_air = 28.86\n",
    "mu_ccp = 27.65"
   ]
  },
  {
   "cell_type": "code",
   "execution_count": 3,
   "metadata": {},
   "outputs": [
    {
     "data": {
      "text/plain": [
       "0.2852475247524752"
      ]
     },
     "execution_count": 3,
     "metadata": {},
     "output_type": "execute_result"
    }
   ],
   "source": [
    "k_air = cp_air / (cp_air - R_air)\n",
    "m_air = (k_air - 1) / k_air\n",
    "m_air"
   ]
  },
  {
   "cell_type": "code",
   "execution_count": 4,
   "metadata": {},
   "outputs": [
    {
     "data": {
      "text/plain": [
       "(407891.8794747853, 407891.87947478524)"
      ]
     },
     "execution_count": 4,
     "metadata": {},
     "output_type": "execute_result"
    }
   ],
   "source": [
    "Tb = Ta * (1 + (compression_factor ** m_air - 1) / compressor_efficiency)\n",
    "H_compressor = cp_air * Ta * (compression_factor ** m_air - 1) / compressor_efficiency\n",
    "\n",
    "H_compressor, (Tb - Ta) * cp_air"
   ]
  },
  {
   "cell_type": "code",
   "execution_count": 5,
   "metadata": {},
   "outputs": [],
   "source": [
    "ha = Ta * cp_air\n",
    "hb = Tb * cp_air\n",
    "\n",
    "hc_air = Tc * cp_air\n",
    "hc_ccp = Tc * cp_ccp"
   ]
  },
  {
   "cell_type": "markdown",
   "metadata": {},
   "source": [
    "$$\\alpha = \\frac{K_т \\eta_{к.с.} + L_0 h_в + h_{т.п.} - (1 + L_0)h_{п.с.}} {L_0(h_в-h_b)}$$"
   ]
  },
  {
   "cell_type": "code",
   "execution_count": 6,
   "metadata": {},
   "outputs": [
    {
     "data": {
      "text/plain": [
       "2.919613710540248"
      ]
     },
     "execution_count": 6,
     "metadata": {},
     "output_type": "execute_result"
    }
   ],
   "source": [
    "numenator = (\n",
    "    fuel_heat * combustion_chamber_efficiency +\n",
    "    L * hc_air +\n",
    "    0 -\n",
    "    (1 + L) * hc_ccp\n",
    ")\n",
    "\n",
    "denumenator = L * (hc_air - hb)\n",
    "\n",
    "air_excess = numenator / denumenator\n",
    "air_excess"
   ]
  },
  {
   "cell_type": "markdown",
   "metadata": {},
   "source": [
    "<center>Массовые доли продуктов сгорания\n",
    "$$g_{п.с.} = \\frac{1 + L}{1 + \\alpha L}$$\n",
    "$$g_{в} = 1 - g_{п.с.}$$"
   ]
  },
  {
   "cell_type": "code",
   "execution_count": 7,
   "metadata": {},
   "outputs": [
    {
     "data": {
      "text/plain": [
       "(0.3552610769318921, 0.644738923068108)"
      ]
     },
     "execution_count": 7,
     "metadata": {},
     "output_type": "execute_result"
    }
   ],
   "source": [
    "g_ccp = (1 + L) / (1 + air_excess * L)\n",
    "g_air = 1 - g_ccp\n",
    "g_ccp, g_air"
   ]
  },
  {
   "cell_type": "code",
   "execution_count": 8,
   "metadata": {},
   "outputs": [
    {
     "data": {
      "text/plain": [
       "1650120.8851994872"
      ]
     },
     "execution_count": 8,
     "metadata": {},
     "output_type": "execute_result"
    }
   ],
   "source": [
    "hc = g_air * hc_air + g_ccp * hc_ccp\n",
    "hc"
   ]
  },
  {
   "cell_type": "markdown",
   "metadata": {},
   "source": [
    "<center>Объемная доля воздуха в продуктах сгорания\n",
    "$$q = \\frac{\\mu_{п.с.}L}{\\mu_в (1 + L)}$$\n",
    "$$r_в = \\frac{q(\\alpha - 1)}{1 + q(\\alpha - 1)}$$\n",
    "\n",
    "<br>\n",
    "\n",
    "<center>Молекулярная масса смеси\n",
    "$$\\mu_г = \\mu_в r_в + \\mu_{п.с.}(1-r_в)$$\n",
    "\n",
    "<br>\n",
    "\n",
    "<center>Газовая постоянная\n",
    "$$R_г = 8.314/\\mu_г$$"
   ]
  },
  {
   "cell_type": "code",
   "execution_count": 9,
   "metadata": {},
   "outputs": [
    {
     "data": {
      "text/plain": [
       "0.634868816124687"
      ]
     },
     "execution_count": 9,
     "metadata": {},
     "output_type": "execute_result"
    }
   ],
   "source": [
    "_q = (mu_ccp * L) / (mu_air * (1 + L))\n",
    "r_air = _q * (air_excess - 1) / (1 + _q * (air_excess - 1))\n",
    "r_air"
   ]
  },
  {
   "cell_type": "code",
   "execution_count": 10,
   "metadata": {},
   "outputs": [
    {
     "data": {
      "text/plain": [
       "(28.41819126751087, 292.5590837832452)"
      ]
     },
     "execution_count": 10,
     "metadata": {},
     "output_type": "execute_result"
    }
   ],
   "source": [
    "mu_gas = mu_air * r_air + mu_ccp * (1 - r_air)\n",
    "R_gas = 8314 / mu_gas\n",
    "\n",
    "mu_gas, R_gas"
   ]
  },
  {
   "cell_type": "code",
   "execution_count": 11,
   "metadata": {},
   "outputs": [
    {
     "data": {
      "text/plain": [
       "0.26118293401467074"
      ]
     },
     "execution_count": 11,
     "metadata": {},
     "output_type": "execute_result"
    }
   ],
   "source": [
    "cp_gas = hc / Tc\n",
    "\n",
    "k_gas = cp_gas / (cp_gas - R_gas)\n",
    "m_gas = (k_gas - 1) / k_gas\n",
    "m_gas"
   ]
  },
  {
   "cell_type": "code",
   "execution_count": 12,
   "metadata": {},
   "outputs": [
    {
     "data": {
      "text/plain": [
       "(407891.8794747853, 407891.87947478524)"
      ]
     },
     "execution_count": 12,
     "metadata": {},
     "output_type": "execute_result"
    }
   ],
   "source": [
    "Td = Tc * (1 - (1 - turbine_expansion_ratio ** (-m_gas)) * turbine_efficiency)\n",
    "H_turbine = cp_gas * Tc * (1 - turbine_expansion_ratio ** (-m_gas)) * turbine_efficiency\n",
    "\n",
    "H_compressor, (Tb - Ta) * cp_air"
   ]
  },
  {
   "cell_type": "markdown",
   "metadata": {},
   "source": [
    "<center>Расход газа через турбину\n",
    "  $$G_т = N_e / H_e$$\n",
    "    <br>\n",
    "  $$N_e = N_э / \\eta_{э.г.}$$\n",
    "   <br>\n",
    "  $$H_e = H_т\\eta_м - bH_k$$ \n",
    "    <br>\n",
    "  $$b = \\frac{\\alpha L (1 + \\alpha_{у})}{1 + \\alpha L}$$ \n",
    "  <br>"
   ]
  },
  {
   "cell_type": "code",
   "execution_count": 13,
   "metadata": {},
   "outputs": [
    {
     "data": {
      "text/plain": [
       "0.9855110599172187"
      ]
     },
     "execution_count": 13,
     "metadata": {},
     "output_type": "execute_result"
    }
   ],
   "source": [
    "gas_ratio = air_excess * L * (1 + leakage_coeff) / (1 + air_excess * L)\n",
    "gas_ratio"
   ]
  },
  {
   "cell_type": "code",
   "execution_count": 14,
   "metadata": {},
   "outputs": [
    {
     "data": {
      "text/plain": [
       "333050.5795518964"
      ]
     },
     "execution_count": 14,
     "metadata": {},
     "output_type": "execute_result"
    }
   ],
   "source": [
    "H_effecive = H_turbine * mechanical_efficiency - gas_ratio * H_compressor\n",
    "H_effecive"
   ]
  },
  {
   "cell_type": "code",
   "execution_count": 15,
   "metadata": {},
   "outputs": [
    {
     "data": {
      "text/plain": [
       "101832993.89002037"
      ]
     },
     "execution_count": 15,
     "metadata": {},
     "output_type": "execute_result"
    }
   ],
   "source": [
    "N_effective = N / electrical_efficiency\n",
    "N_effective"
   ]
  },
  {
   "cell_type": "code",
   "execution_count": 16,
   "metadata": {},
   "outputs": [
    {
     "data": {
      "text/plain": [
       "305.75834465453204"
      ]
     },
     "execution_count": 16,
     "metadata": {},
     "output_type": "execute_result"
    }
   ],
   "source": [
    "gas_mass_flow_rate = N_effective / H_effecive\n",
    "gas_mass_flow_rate"
   ]
  },
  {
   "cell_type": "markdown",
   "metadata": {},
   "source": [
    "<center>Расход воздуха подаваемого компрессором\n",
    "$$G_к^* = G_к (1 + \\alpha_{у}) = b G_т$$\n",
    "<br>\n",
    "<center>Расход топлива\n",
    "$$B = G_т / (1 + \\alpha L)$$\n",
    "<br>\n",
    "<center>Мощность развиваемая газовой турбиной\n",
    "$$N_т = G_т H_т$$\n",
    "<br>\n",
    "<center>Мощность потребляемая компрессором\n",
    "$$N_к = G_к^* H_к$$\n",
    "<br>\n",
    "<center>Коэффициент полезной работы\n",
    "$$\\phi = N_e / N_т$$\n",
    "<br>\n",
    "<center>Коэффициент полезного действия ГТУ\n",
    "$$\\eta_э = G_т H_e \\eta_{э.г.} / (B K_т)$$\n"
   ]
  },
  {
   "cell_type": "code",
   "execution_count": 17,
   "metadata": {},
   "outputs": [
    {
     "data": {
      "text/plain": [
       "301.3282303190221"
      ]
     },
     "execution_count": 17,
     "metadata": {},
     "output_type": "execute_result"
    }
   ],
   "source": [
    "air_mass_flow_rate = gas_ratio * gas_mass_flow_rate\n",
    "air_mass_flow_rate"
   ]
  },
  {
   "cell_type": "code",
   "execution_count": 18,
   "metadata": {},
   "outputs": [
    {
     "data": {
      "text/plain": [
       "5.9292597599826244"
      ]
     },
     "execution_count": 18,
     "metadata": {},
     "output_type": "execute_result"
    }
   ],
   "source": [
    "fuel_mass_flow_rate = gas_mass_flow_rate / (1 + air_excess * L)\n",
    "fuel_mass_flow_rate"
   ]
  },
  {
   "cell_type": "code",
   "execution_count": 19,
   "metadata": {},
   "outputs": [
    {
     "data": {
      "text/plain": [
       "(225.87169054638923, 122.90933820363692)"
      ]
     },
     "execution_count": 19,
     "metadata": {},
     "output_type": "execute_result"
    }
   ],
   "source": [
    "turbine_power = gas_mass_flow_rate * H_turbine\n",
    "compressor_power = air_mass_flow_rate * H_compressor\n",
    "turbine_power / MW, compressor_power/ MW"
   ]
  },
  {
   "cell_type": "code",
   "execution_count": 20,
   "metadata": {},
   "outputs": [
    {
     "data": {
      "text/plain": [
       "0.45084443138351615"
      ]
     },
     "execution_count": 20,
     "metadata": {},
     "output_type": "execute_result"
    }
   ],
   "source": [
    "useful_work_coefficient = N_effective / turbine_power\n",
    "useful_work_coefficient"
   ]
  },
  {
   "cell_type": "code",
   "execution_count": 21,
   "metadata": {},
   "outputs": [
    {
     "data": {
      "text/plain": [
       "0.3373102344913729"
      ]
     },
     "execution_count": 21,
     "metadata": {},
     "output_type": "execute_result"
    }
   ],
   "source": [
    "efficiency = gas_mass_flow_rate * H_effecive * electrical_efficiency / (fuel_mass_flow_rate * fuel_heat)\n",
    "efficiency"
   ]
  },
  {
   "cell_type": "markdown",
   "metadata": {},
   "source": [
    "## Задача  2"
   ]
  },
  {
   "attachments": {
    "image.png": {
     "image/png": "[encoded data removed]"
    }
   },
   "cell_type": "markdown",
   "metadata": {},
   "source": [
    "![image.png](attachment:image.png)"
   ]
  },
  {
   "cell_type": "code",
   "execution_count": 25,
   "metadata": {},
   "outputs": [],
   "source": [
    "import numpy as np\n",
    "import matplotlib.pyplot as plt\n",
    "import pandas as pd\n",
    "# from scipy.optimize import minimize"
   ]
  },
  {
   "cell_type": "code",
   "execution_count": 26,
   "metadata": {},
   "outputs": [],
   "source": [
    "def plot_triangle(\n",
    "    ax,\n",
    "    u = None,\n",
    "    c_a = None,\n",
    "    c_u = None,\n",
    "    w_a = None,\n",
    "    w_u = None,\n",
    "    **kwargs,\n",
    "):\n",
    "    if c_u and c_a:\n",
    "        ax.plot([0, -c_u], [0, -c_a], label='C_1', color='red', **kwargs)\n",
    "    if w_u and w_a:\n",
    "        ax.plot([0, -w_u], [0, -w_a], label='W_1', color='green', **kwargs)\n",
    "    if (c_u and c_a) or (w_u and w_a):\n",
    "        if c_u and c_a:\n",
    "            ax.plot([-c_u, -c_u + u], [-c_a, -c_a], label='u', color='blue', **kwargs)\n",
    "        else:\n",
    "            ax.plot([-w_u, -w_u - u], [-w_a, -w_a], label='u', color='blue', **kwargs)\n",
    "    ax.legend()"
   ]
  },
  {
   "cell_type": "code",
   "execution_count": 29,
   "metadata": {},
   "outputs": [],
   "source": [
    "average_diameter = 0.5\n",
    "n = 12000 / 60 # об/c\n",
    "c_1_a = 150\n",
    "alpha_1 = 60\n",
    "\n",
    "stage_work = 16 * kJ"
   ]
  },
  {
   "cell_type": "code",
   "execution_count": 30,
   "metadata": {},
   "outputs": [
    {
     "data": {
      "text/plain": [
       "314.1592653589793"
      ]
     },
     "execution_count": 30,
     "metadata": {},
     "output_type": "execute_result"
    }
   ],
   "source": [
    "u = np.pi * average_diameter * n\n",
    "u"
   ]
  },
  {
   "cell_type": "code",
   "execution_count": 31,
   "metadata": {},
   "outputs": [
    {
     "data": {
      "text/plain": [
       "173.20508075688775"
      ]
     },
     "execution_count": 31,
     "metadata": {},
     "output_type": "execute_result"
    }
   ],
   "source": [
    "c_1 = c_1_a / np.sin(np.deg2rad(alpha_1))\n",
    "c_1"
   ]
  },
  {
   "cell_type": "code",
   "execution_count": 32,
   "metadata": {},
   "outputs": [
    {
     "data": {
      "text/plain": [
       "86.60254037844389"
      ]
     },
     "execution_count": 32,
     "metadata": {},
     "output_type": "execute_result"
    }
   ],
   "source": [
    "c_1_u = c_1 * np.cos(np.deg2rad(alpha_1))\n",
    "c_1_u"
   ]
  },
  {
   "cell_type": "code",
   "execution_count": 33,
   "metadata": {},
   "outputs": [
    {
     "data": {
      "image/png": "[encoded data removed]",
      "text/plain": [
       "<Figure size 1080x360 with 1 Axes>"
      ]
     },
     "metadata": {
      "needs_background": "light"
     },
     "output_type": "display_data"
    }
   ],
   "source": [
    "fig, ax = plt.subplots(1, 1, figsize=(15,5))\n",
    "plot_triangle(ax=ax, u=u, c_u=c_1_u, c_a=c_1_a, linestyle=\"dotted\")\n"
   ]
  },
  {
   "cell_type": "code",
   "execution_count": 34,
   "metadata": {},
   "outputs": [
    {
     "data": {
      "text/plain": [
       "-227.55672498053542"
      ]
     },
     "execution_count": 34,
     "metadata": {},
     "output_type": "execute_result"
    }
   ],
   "source": [
    "w_1_u = c_1_u - u\n",
    "w_1_u"
   ]
  },
  {
   "cell_type": "code",
   "execution_count": 35,
   "metadata": {},
   "outputs": [
    {
     "data": {
      "text/plain": [
       "150"
      ]
     },
     "execution_count": 35,
     "metadata": {},
     "output_type": "execute_result"
    }
   ],
   "source": [
    "w_1_a = c_1_a\n",
    "w_1_a"
   ]
  },
  {
   "cell_type": "code",
   "execution_count": 36,
   "metadata": {},
   "outputs": [
    {
     "data": {
      "image/png": "[encoded data removed]",
      "text/plain": [
       "<Figure size 1080x360 with 1 Axes>"
      ]
     },
     "metadata": {
      "needs_background": "light"
     },
     "output_type": "display_data"
    }
   ],
   "source": [
    "fig, ax = plt.subplots(1, 1, figsize=(15,5))\n",
    "plot_triangle(ax=ax, u=u, c_u=c_1_u, c_a=c_1_a, w_a=w_1_a, w_u=w_1_u, linestyle=\"dotted\")"
   ]
  },
  {
   "cell_type": "code",
   "execution_count": 37,
   "metadata": {},
   "outputs": [
    {
     "data": {
      "text/plain": [
       "272.5473593412107"
      ]
     },
     "execution_count": 37,
     "metadata": {},
     "output_type": "execute_result"
    }
   ],
   "source": [
    "w_1 = (w_1_a ** 2 + w_1_u ** 2) ** 0.5\n",
    "w_1"
   ]
  },
  {
   "cell_type": "code",
   "execution_count": 38,
   "metadata": {},
   "outputs": [
    {
     "data": {
      "text/plain": [
       "146.608075701148"
      ]
     },
     "execution_count": 38,
     "metadata": {},
     "output_type": "execute_result"
    }
   ],
   "source": [
    "beta_1 = np.rad2deg(np.arccos(w_1_u / w_1))\n",
    "beta_1"
   ]
  },
  {
   "cell_type": "code",
   "execution_count": 39,
   "metadata": {},
   "outputs": [
    {
     "data": {
      "text/plain": [
       "50.929581789406505"
      ]
     },
     "execution_count": 39,
     "metadata": {},
     "output_type": "execute_result"
    }
   ],
   "source": [
    "delta_w_u = stage_work / u\n",
    "delta_w_u"
   ]
  },
  {
   "cell_type": "code",
   "execution_count": 40,
   "metadata": {},
   "outputs": [
    {
     "data": {
      "text/plain": [
       "-176.6271431911289"
      ]
     },
     "execution_count": 40,
     "metadata": {},
     "output_type": "execute_result"
    }
   ],
   "source": [
    "w_2_u = w_1_u + delta_w_u\n",
    "w_2_u"
   ]
  },
  {
   "cell_type": "code",
   "execution_count": 41,
   "metadata": {},
   "outputs": [
    {
     "data": {
      "text/plain": [
       "150"
      ]
     },
     "execution_count": 41,
     "metadata": {},
     "output_type": "execute_result"
    }
   ],
   "source": [
    "w_2_a = c_1_a\n",
    "w_2_a"
   ]
  },
  {
   "cell_type": "code",
   "execution_count": 42,
   "metadata": {},
   "outputs": [
    {
     "data": {
      "image/png": "[encoded data removed]",
      "text/plain": [
       "<Figure size 1080x360 with 1 Axes>"
      ]
     },
     "metadata": {
      "needs_background": "light"
     },
     "output_type": "display_data"
    }
   ],
   "source": [
    "fig, ax = plt.subplots(1, 1, figsize=(15,5))\n",
    "plot_triangle(ax=ax, u=u, c_u=c_1_u, c_a=c_1_a, w_a=w_1_a, w_u=w_1_u, linestyle=\"dotted\")\n",
    "plot_triangle(ax=ax, u=u, w_a=w_2_a, w_u=w_2_u, linestyle=\"dashed\")"
   ]
  },
  {
   "cell_type": "code",
   "execution_count": 43,
   "metadata": {},
   "outputs": [
    {
     "data": {
      "text/plain": [
       "231.7264501774874"
      ]
     },
     "execution_count": 43,
     "metadata": {},
     "output_type": "execute_result"
    }
   ],
   "source": [
    "w_2 = (w_2_a ** 2 + w_2_u**2) ** 0.5\n",
    "w_2"
   ]
  },
  {
   "cell_type": "code",
   "execution_count": 44,
   "metadata": {},
   "outputs": [
    {
     "data": {
      "text/plain": [
       "139.66053335959572"
      ]
     },
     "execution_count": 44,
     "metadata": {},
     "output_type": "execute_result"
    }
   ],
   "source": [
    "beta_2 = np.rad2deg(np.arccos(w_2_u / w_2))\n",
    "beta_2"
   ]
  },
  {
   "cell_type": "code",
   "execution_count": 45,
   "metadata": {},
   "outputs": [
    {
     "data": {
      "text/plain": [
       "137.5321221678504"
      ]
     },
     "execution_count": 45,
     "metadata": {},
     "output_type": "execute_result"
    }
   ],
   "source": [
    "delta_c_u = delta_w_u\n",
    "c_2_u = c_1_u + delta_c_u\n",
    "c_2_u"
   ]
  },
  {
   "cell_type": "code",
   "execution_count": 46,
   "metadata": {},
   "outputs": [
    {
     "data": {
      "text/plain": [
       "150"
      ]
     },
     "execution_count": 46,
     "metadata": {},
     "output_type": "execute_result"
    }
   ],
   "source": [
    "c_2_a = c_1_a\n",
    "c_2_a"
   ]
  },
  {
   "cell_type": "code",
   "execution_count": 47,
   "metadata": {},
   "outputs": [
    {
     "data": {
      "image/png": "[encoded data removed]",
      "text/plain": [
       "<Figure size 1080x360 with 1 Axes>"
      ]
     },
     "metadata": {
      "needs_background": "light"
     },
     "output_type": "display_data"
    }
   ],
   "source": [
    "fig, ax = plt.subplots(1, 1, figsize=(15,5))\n",
    "plot_triangle(ax=ax, u=u, c_u=c_1_u, c_a=c_1_a, w_a=w_1_a, w_u=w_1_u, linestyle=\"dotted\")\n",
    "plot_triangle(ax=ax, u=u, w_a=w_2_a, w_u=w_2_u, c_a=c_2_a, c_u=c_2_u, linestyle=\"dashed\")\n"
   ]
  },
  {
   "cell_type": "code",
   "execution_count": 48,
   "metadata": {},
   "outputs": [
    {
     "data": {
      "text/plain": [
       "203.5069645687649"
      ]
     },
     "execution_count": 48,
     "metadata": {},
     "output_type": "execute_result"
    }
   ],
   "source": [
    "c_2 = (c_2_u ** 2 + c_2_a ** 2) ** 0.5\n",
    "c_2"
   ]
  },
  {
   "cell_type": "code",
   "execution_count": 49,
   "metadata": {},
   "outputs": [
    {
     "data": {
      "text/plain": [
       "47.48288628953232"
      ]
     },
     "execution_count": 49,
     "metadata": {},
     "output_type": "execute_result"
    }
   ],
   "source": [
    "alpha_2 = np.rad2deg(np.arcsin(c_2_a / c_2))\n",
    "alpha_2"
   ]
  },
  {
   "cell_type": "code",
   "execution_count": 50,
   "metadata": {},
   "outputs": [],
   "source": [
    "table = pd.DataFrame({\n",
    "    \"absolute_speed\": [c_1, c_2],\n",
    "    \"absolute_angle\": [alpha_1, alpha_2],\n",
    "    \"relative_speed\": [w_1, w_2],\n",
    "    \"relative_angle\": [beta_1, beta_2],\n",
    "    \"triangle\": [\"inlet\", \"outlet\"],\n",
    "}).set_index(\"triangle\")"
   ]
  },
  {
   "cell_type": "code",
   "execution_count": 51,
   "metadata": {},
   "outputs": [
    {
     "data": {
      "text/html": [
       "<div>\n",
       "<style scoped>\n",
       "    .dataframe tbody tr th:only-of-type {\n",
       "        vertical-align: middle;\n",
       "    }\n",
       "\n",
       "    .dataframe tbody tr th {\n",
       "        vertical-align: top;\n",
       "    }\n",
       "\n",
       "    .dataframe thead th {\n",
       "        text-align: right;\n",
       "    }\n",
       "</style>\n",
       "<table border=\"1\" class=\"dataframe\">\n",
       "  <thead>\n",
       "    <tr style=\"text-align: right;\">\n",
       "      <th></th>\n",
       "      <th>absolute_speed</th>\n",
       "      <th>absolute_angle</th>\n",
       "      <th>relative_speed</th>\n",
       "      <th>relative_angle</th>\n",
       "    </tr>\n",
       "    <tr>\n",
       "      <th>triangle</th>\n",
       "      <th></th>\n",
       "      <th></th>\n",
       "      <th></th>\n",
       "      <th></th>\n",
       "    </tr>\n",
       "  </thead>\n",
       "  <tbody>\n",
       "    <tr>\n",
       "      <th>inlet</th>\n",
       "      <td>173.205081</td>\n",
       "      <td>60.000000</td>\n",
       "      <td>272.547359</td>\n",
       "      <td>146.608076</td>\n",
       "    </tr>\n",
       "    <tr>\n",
       "      <th>outlet</th>\n",
       "      <td>203.506965</td>\n",
       "      <td>47.482886</td>\n",
       "      <td>231.726450</td>\n",
       "      <td>139.660533</td>\n",
       "    </tr>\n",
       "  </tbody>\n",
       "</table>\n",
       "</div>"
      ],
      "text/plain": [
       "          absolute_speed  absolute_angle  relative_speed  relative_angle\n",
       "triangle                                                                \n",
       "inlet         173.205081       60.000000      272.547359      146.608076\n",
       "outlet        203.506965       47.482886      231.726450      139.660533"
      ]
     },
     "execution_count": 51,
     "metadata": {},
     "output_type": "execute_result"
    }
   ],
   "source": [
    "table"
   ]
  },
  {
   "cell_type": "code",
   "execution_count": null,
   "metadata": {},
   "outputs": [],
   "source": []
  }
 ],
 "metadata": {
  "kernelspec": {
   "display_name": "Python 3",
   "language": "python",
   "name": "python3"
  },
  "language_info": {
   "codemirror_mode": {
    "name": "ipython",
    "version": 3
   },
   "file_extension": ".py",
   "mimetype": "text/x-python",
   "name": "python",
   "nbconvert_exporter": "python",
   "pygments_lexer": "ipython3",
   "version": "3.8.5"
  }
 },
 "nbformat": 4,
 "nbformat_minor": 4
}
